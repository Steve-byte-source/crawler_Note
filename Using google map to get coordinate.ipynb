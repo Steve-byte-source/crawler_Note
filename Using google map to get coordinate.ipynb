{
 "cells": [
  {
   "cell_type": "code",
   "execution_count": 3,
   "metadata": {},
   "outputs": [
    {
     "name": "stdout",
     "output_type": "stream",
     "text": [
      "台北市延平南路八十一號 \n",
      " 經度=121.510863,緯度=25.043659\n",
      " 25.043659,121.510863\n"
     ]
    }
   ],
   "source": [
    "import requests\n",
    "from bs4 import BeautifulSoup\n",
    "\n",
    "def coordinate_api(address):\n",
    "    # parameter_1  = address\n",
    "    url = \"https://www.google.com.tw/maps/search/{}\".format(address)\n",
    "    headers = {\"User-Agent\":\"Mozilla/5.0 (Windows NT 10.0; Win64; x64) AppleWebKit/537.36 (KHTML, like Gecko) Chrome/83.0.4103.61 Safari/537.36\"}\n",
    "\n",
    "    res = requests.get(url = url, headers = headers)\n",
    "    soup = BeautifulSoup(res.text,'html.parser')\n",
    "\n",
    "    # longitude 經度  latitude 緯度\n",
    "    content = str(soup.select(\"meta\")[7])\n",
    "    coordinate = content.split(\"?\")[1].split(\"&\")[0].split(\"=\")[1].replace(\"%2C\", \",\")\n",
    "    longitude,latitude = float(coordinate.split(\",\")[1]) , float(coordinate.split(\",\")[0]) \n",
    "\n",
    "\n",
    "    print(address,\"\\n 經度={},緯度={}\\n\".format(longitude,latitude),coordinate)\n",
    "\n",
    "    \n",
    "## example\n",
    "address = \"台北市延平南路八十一號\"\n",
    "coordinate_api(address)"
   ]
  }
 ],
 "metadata": {
  "kernelspec": {
   "display_name": "Python 3",
   "language": "python",
   "name": "python3"
  },
  "language_info": {
   "codemirror_mode": {
    "name": "ipython",
    "version": 3
   },
   "file_extension": ".py",
   "mimetype": "text/x-python",
   "name": "python",
   "nbconvert_exporter": "python",
   "pygments_lexer": "ipython3",
   "version": "3.8.3"
  }
 },
 "nbformat": 4,
 "nbformat_minor": 4
}
